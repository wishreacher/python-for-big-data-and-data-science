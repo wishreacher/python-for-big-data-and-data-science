{
  "nbformat": 4,
  "nbformat_minor": 0,
  "metadata": {
    "colab": {
      "provenance": []
    },
    "kernelspec": {
      "name": "python3",
      "display_name": "Python 3"
    },
    "language_info": {
      "name": "python"
    }
  },
  "cells": [
    {
      "cell_type": "markdown",
      "source": [
        "# I. OOP"
      ],
      "metadata": {
        "id": "5qV_sehzFCTp"
      }
    },
    {
      "cell_type": "markdown",
      "source": [
        "1. (6б). Створіть клас Building, додайте три атрибути, один з яких має значення за замовчуванням та два методи на свій розсуд."
      ],
      "metadata": {
        "id": "tx_U_hOALyfg"
      }
    },
    {
      "cell_type": "code",
      "source": [
        "class Building:\n",
        "  def __init__(self, street, floors = 1):\n",
        "    self.floors = floors\n",
        "    self.street = street\n",
        "\n",
        "  def get_info(self):\n",
        "      return f\"This building has {self.floors} and is located on {self.street}\"\n",
        "\n",
        "  def add_floor(self):\n",
        "      self.floors += 1\n",
        "      return f\"This building now has {self.floors} floors\""
      ],
      "metadata": {
        "id": "-Vf895KaL88N",
        "colab": {
          "base_uri": "https://localhost:8080/"
        },
        "outputId": "9036d87d-c725-454f-ace3-1b4570877dfc"
      },
      "execution_count": 5,
      "outputs": [
        {
          "output_type": "stream",
          "name": "stdout",
          "text": [
            "This building has 1 and is located on Voloska str.\n",
            "This building has 4 and is located on Naberezhno-Rybalska str.\n"
          ]
        }
      ]
    },
    {
      "cell_type": "markdown",
      "source": [
        "2. (2б). Створіть два обʼєкти цього класу, де один з обʼєктів створюється із дефолтним значенням атрибуту. На одному обʼєкті отримайте значення його атрибуту, а на іншому викличте один з його методів."
      ],
      "metadata": {
        "id": "X_UlOMB0L93w"
      }
    },
    {
      "cell_type": "code",
      "source": [
        "b1 = Building(\"Voloska str.\")\n",
        "b2 = Building(\"Naberezhno-Rybalska str.\", 4)\n",
        "\n",
        "print(b1.floors)\n",
        "print(b2.get_info())"
      ],
      "metadata": {
        "id": "7gBu0ESOMCpG",
        "colab": {
          "base_uri": "https://localhost:8080/"
        },
        "outputId": "c2dc7d93-630d-41fd-ea4a-2a90a5ee923a"
      },
      "execution_count": 6,
      "outputs": [
        {
          "output_type": "stream",
          "name": "stdout",
          "text": [
            "1\n",
            "This building has 4 and is located on Naberezhno-Rybalska str.\n"
          ]
        }
      ]
    },
    {
      "cell_type": "markdown",
      "source": [
        "3. (5б). Створіть клас, де атрибути мають різні рівні доступу. Спробуйте отримати їхні значення та опишіть результати."
      ],
      "metadata": {
        "id": "HoqSCZt1MHn5"
      }
    },
    {
      "cell_type": "code",
      "source": [
        "class Subject:\n",
        "    def __init__(self, name, credits, professor):\n",
        "        self.name = name\n",
        "        self._credits = credits\n",
        "        self.__professor = professor\n",
        "\n",
        "    def get_professor(self):\n",
        "        \"\"\"Повертає ім'я викладача (приватний атрибут)\"\"\"\n",
        "        return self.__professor\n",
        "\n",
        "math = Subject(\"Mathematics\", 5, \"Dr. Smith\")\n",
        "cs = Subject(\"Computer Science\", 6, \"Prof. Johnson\")\n",
        "\n",
        "print(math.name)\n",
        "\n",
        "print(cs._credits)\n",
        "\n",
        "#print(math.__professor)  # AttributeError"
      ],
      "metadata": {
        "id": "r9b3vJxBMSPV",
        "colab": {
          "base_uri": "https://localhost:8080/"
        },
        "outputId": "bf1cbfd1-70ba-4144-9190-6c2b42baeea4"
      },
      "execution_count": 8,
      "outputs": [
        {
          "output_type": "stream",
          "name": "stdout",
          "text": [
            "Mathematics\n",
            "6\n"
          ]
        }
      ]
    },
    {
      "cell_type": "markdown",
      "source": [
        "4. (7б). Як ви розумієте термін self? Для чого використовується метод __init __?"
      ],
      "metadata": {
        "id": "5op2m2vgMSkZ"
      }
    },
    {
      "cell_type": "markdown",
      "source": [
        "self спосіб звернутись до \"себе\", до конкретного екземпляру класу, який виконується, та його параметрів. init - метод для задання полів класу та їх ініціалізації."
      ],
      "metadata": {
        "id": "DyiPqNRvMasx"
      }
    },
    {
      "cell_type": "markdown",
      "source": [
        "5. (9б). Створіть клас 3D-фігура без атрибутів, з методом get_volume для отримання об'єму фігури, що повертає 0 та __add __, який приймає self та other в якості аргументів, а повертає суму об'ємів 3d-фігур self та other."
      ],
      "metadata": {
        "id": "-6X8EGfjMd2y"
      }
    },
    {
      "cell_type": "code",
      "source": [
        "class Shape:\n",
        "    def get_volume(self):\n",
        "        return 0\n",
        "\n",
        "    def __add__(self, other):\n",
        "        if isinstance(other, Shape):\n",
        "            return self.get_volume() + other.get_volume()"
      ],
      "metadata": {
        "id": "4rvO_wYUMaEr"
      },
      "execution_count": 9,
      "outputs": []
    },
    {
      "cell_type": "markdown",
      "source": [
        "6. (11б). Створіть 2 дочірніх класи від 3d-фігура: Циліндр та Куб, які мають атрибути, необхідні для розрахунку об'єму. Визначте метод get_volume в кожному з них так, щоби вони розраховували об'єм у залежності від формули для кожного типу фігури. Створіть обʼєкт класу Циліндр та обʼєкт класу Куб. Виконайте операцію суми за допомогою оператора + між ними, аби знайти сумарний об'єм."
      ],
      "metadata": {
        "id": "SFcKnnv5Mo_z"
      }
    },
    {
      "cell_type": "code",
      "source": [
        "import math\n",
        "\n",
        "class Cylinder(Shape):\n",
        "    def __init__(self, radius, height):\n",
        "        self.radius = radius\n",
        "        self.height = height\n",
        "\n",
        "    def get_volume(self):\n",
        "        return math.pi * self.radius ** 2 * self.height\n",
        "\n",
        "class Cube(Shape):\n",
        "    def __init__(self, side):\n",
        "        self.side = side\n",
        "\n",
        "    def get_volume(self):\n",
        "        return self.side ** 3\n",
        "\n",
        "cylinder = Cylinder(35, 5)\n",
        "cube = Cube(5)\n",
        "\n",
        "print(cylinder.get_volume())\n",
        "print(cube.get_volume())\n",
        "print(cylinder + cube)"
      ],
      "metadata": {
        "id": "H3GVNr69Muf3",
        "colab": {
          "base_uri": "https://localhost:8080/"
        },
        "outputId": "83f4a8c0-9848-47b1-d8ce-f9eff754e0f4"
      },
      "execution_count": 12,
      "outputs": [
        {
          "output_type": "stream",
          "name": "stdout",
          "text": [
            "19242.255003237482\n",
            "125\n",
            "19367.255003237482\n"
          ]
        }
      ]
    },
    {
      "cell_type": "markdown",
      "source": [
        "7. (3б). Продемонструйте різницю між isinstance та issubclass."
      ],
      "metadata": {
        "id": "HCvR206YMvLK"
      }
    },
    {
      "cell_type": "code",
      "source": [
        "# isinstance перевіряє чи є обʼєкт екземпляром класу\n",
        "print(isinstance(cylinder, Cylinder))\n",
        "print(isinstance(cube, Cube))\n",
        "print(isinstance(cylinder, Shape))\n",
        "print(isinstance(cube, Shape))\n",
        "print(isinstance(cylinder, Cube))\n",
        "\n",
        "# issubclass перевіряє чи є один клас нащадком іншого\n",
        "print(issubclass(Cylinder, Shape))\n",
        "print(issubclass(Cube, Shape))\n",
        "print(issubclass(Cylinder, Cube))\n",
        "print(issubclass(Shape, Cylinder))\n",
        "print(issubclass(Cylinder, object))\n"
      ],
      "metadata": {
        "id": "L_V1bBvDM0GN"
      },
      "execution_count": null,
      "outputs": []
    },
    {
      "cell_type": "markdown",
      "source": [
        "8. (13б). Створіть клас EWallet з приватними атрибутами balance та id. Реалізуйте методи поповнення та зняття коштів, забезпечивши належну інкапсуляцію. Підказка: використовуйте декоратори property та setter."
      ],
      "metadata": {
        "id": "jjsaBZ-iM0Qq"
      }
    },
    {
      "cell_type": "code",
      "source": [
        "class EWallet:\n",
        "    def __init__(self, id, balance=0):\n",
        "        self.__id = id\n",
        "        self.__balance = balance\n",
        "\n",
        "    @property\n",
        "    def balance(self):\n",
        "        return self.__balance\n",
        "\n",
        "    @balance.setter\n",
        "    def balance(self, value):\n",
        "        self.__balance = value\n",
        "\n",
        "    def deposit(self, amount):\n",
        "        self.__balance += amount\n",
        "\n",
        "    def withdraw(self, amount):\n",
        "        self.__balance -= amount\n",
        "\n",
        "    @property\n",
        "    def id(self):\n",
        "        return self.__id\n",
        "\n",
        "wallet = EWallet(id=\"12345\", balance=100)\n",
        "\n",
        "wallet.deposit(50)\n",
        "\n",
        "wallet.withdraw(30)\n",
        "\n",
        "print(f\"Current balace: {wallet.balance}\")\n"
      ],
      "metadata": {
        "id": "xCvZ7lh8M7YA",
        "colab": {
          "base_uri": "https://localhost:8080/"
        },
        "outputId": "0e804f93-6e6a-4c73-fe2a-a506336a9dd1"
      },
      "execution_count": 13,
      "outputs": [
        {
          "output_type": "stream",
          "name": "stdout",
          "text": [
            "Current balace: 120\n"
          ]
        }
      ]
    },
    {
      "cell_type": "markdown",
      "source": [
        "9. (11б). Створіть клас ShoppingCart, який містить список об'єктів типу Item. Реалізуйте методи для додавання айтемів, їх видалення та відображення списку айтемів."
      ],
      "metadata": {
        "id": "tIzL2SJTM8ft"
      }
    },
    {
      "cell_type": "code",
      "source": [
        "class Item:\n",
        "    def __init__(self, name, price, quantity=1):\n",
        "        self.name = name\n",
        "        self.price = price\n",
        "        self.quantity = quantity\n",
        "\n",
        "    def __str__(self):\n",
        "        return f\"{self.name} (Price: {self.price}, quantity: {self.quantity})\"\n",
        "\n",
        "class ShoppingCart:\n",
        "    def __init__(self):\n",
        "        self.items = []\n",
        "\n",
        "    def add_item(self, item):\n",
        "        self.items.append(item)\n",
        "        print(f\"Item '{item.name}' added to cart.\")\n",
        "\n",
        "    def remove_item(self, item_name):\n",
        "        for item in self.items:\n",
        "            if item.name == item_name:\n",
        "                self.items.remove(item)\n",
        "                print(f\"Item '{item_name}' removed from cart.\")\n",
        "                return\n",
        "        print(f\"Item '{item_name}' not found in cart.\")\n",
        "\n",
        "    def display_items(self):\n",
        "        if not self.items:\n",
        "            print(\"Cart is empty.\")\n",
        "            return\n",
        "        print(\"Items in cart:\")\n",
        "        for item in self.items:\n",
        "            print(item)\n",
        "\n",
        "item1 = Item(\"Car\", 20000, 1)\n",
        "item2 = Item(\"Book\", 500, 2)\n",
        "item3 = Item(\"TV\", 1500, 1)\n",
        "\n",
        "cart = ShoppingCart()\n",
        "\n",
        "cart.add_item(item1)\n",
        "cart.add_item(item2)\n",
        "cart.add_item(item3)\n",
        "\n",
        "cart.display_items()\n",
        "\n",
        "cart.remove_item(\"Car\")\n",
        "\n",
        "cart.display_items()\n",
        "\n",
        "cart.remove_item(\"TV\")"
      ],
      "metadata": {
        "id": "HWxfJKLtNAUZ"
      },
      "execution_count": null,
      "outputs": []
    },
    {
      "cell_type": "markdown",
      "source": [
        "10. (13б). Створіть клас Vehicle з атрибутами brand (manufacturer) та production_age. Створіть ще один клас Engine з такими атрибутами, як type (ex. petrol) та size (volume, litres). Створіть клас Car, який успадковує обидва класи Vehicle та Engine. Продемонструйте використання множинної спадковості, створивши обʼєкт класу Car та отримавши mro для цього класу."
      ],
      "metadata": {
        "id": "lmV8pAwwNIqu"
      }
    },
    {
      "cell_type": "code",
      "source": [
        "class Vehicle:\n",
        "    def __init__(self, brand, production_age):\n",
        "        self.brand = brand\n",
        "        self.production_age = production_age\n",
        "\n",
        "    def __str__(self):\n",
        "        return f\"Vehicle {self.brand}, age: {self.production_age}\"\n",
        "\n",
        "\n",
        "class Engine:\n",
        "    def __init__(self, engine_type, size):\n",
        "        self.engine_type = engine_type\n",
        "        self.size = size\n",
        "\n",
        "    def __str__(self):\n",
        "        return f\"Engine type: {self.engine_type}, size: {self.size}\"\n",
        "\n",
        "class Car(Vehicle, Engine):\n",
        "    def __init__(self, brand, production_age, engine_type, size):\n",
        "        Vehicle.__init__(self, brand, production_age)\n",
        "        Engine.__init__(self, engine_type, size)\n",
        "\n",
        "    def __str__(self):\n",
        "        return f\"{Vehicle.__str__(self)}\\n{Engine.__str__(self)}\"\n",
        "\n",
        "\n",
        "my_car = Car(\"Toyota\", 5, \"Petrol\", 2.0)\n",
        "\n",
        "print(my_car)\n",
        "\n",
        "print(\"\\nmro:\", Car.__mro__)\n"
      ],
      "metadata": {
        "id": "R49grKlWNPeN",
        "colab": {
          "base_uri": "https://localhost:8080/"
        },
        "outputId": "710e074b-0eca-4d98-dcac-ece851e8ec6e"
      },
      "execution_count": 14,
      "outputs": [
        {
          "output_type": "stream",
          "name": "stdout",
          "text": [
            "Vehicle Toyota, age: 5\n",
            "Engine type: Petrol, size: 2.0\n",
            "\n",
            "mro: (<class '__main__.Car'>, <class '__main__.Vehicle'>, <class '__main__.Engine'>, <class 'object'>)\n"
          ]
        }
      ]
    },
    {
      "cell_type": "markdown",
      "source": [
        "# II. Iterator"
      ],
      "metadata": {
        "id": "dIJyUiNBFG8G"
      }
    },
    {
      "cell_type": "markdown",
      "source": [
        "11. (4б). Визначте рядок(str) з 4ма різними за значенням символами. Створіть ітератор на основі цього рядка. Викличте 5 разів функцію next на ітераторі, 4ри перших з них огорніть у ф-цію print()."
      ],
      "metadata": {
        "id": "13vsm0NyKIzL"
      }
    },
    {
      "cell_type": "code",
      "source": [
        "my_string = \"abcd\"\n",
        "\n",
        "iterator = iter(my_string)\n",
        "\n",
        "print(next(iterator))\n",
        "print(next(iterator))\n",
        "print(next(iterator))\n",
        "print(next(iterator))\n",
        "\n",
        "next(iterator)"
      ],
      "metadata": {
        "id": "81ntabAkKuz-",
        "colab": {
          "base_uri": "https://localhost:8080/"
        },
        "outputId": "a4f5a7a5-fec4-47e7-ae19-61b9f7ca5c5a"
      },
      "execution_count": 16,
      "outputs": [
        {
          "output_type": "stream",
          "name": "stdout",
          "text": [
            "a\n",
            "b\n",
            "c\n",
            "d\n"
          ]
        }
      ]
    },
    {
      "cell_type": "markdown",
      "source": [
        "А що якщо викликати цю ж функцію на рядку?"
      ],
      "metadata": {
        "id": "aekWHGXOLRsO"
      }
    },
    {
      "cell_type": "code",
      "source": [
        "print(next(my_string))"
      ],
      "metadata": {
        "id": "mxATGsErLV1i"
      },
      "execution_count": 18,
      "outputs": []
    },
    {
      "cell_type": "markdown",
      "source": [
        " 12. (5б). Опишіть своїми словами в одному реченні, як ви розумієте різницю між ітерабельними обʼєктами та ітераторами (можна на прикладі)."
      ],
      "metadata": {
        "id": "XwtMEopwJ4pH"
      }
    },
    {
      "cell_type": "markdown",
      "source": [
        "З ітерабельного обʼєкта можна отримувати елементи по черзі, а ітератор це той обʼєкт, який реалізовує методи для роботи з ітерабельним обʼєктом"
      ],
      "metadata": {
        "id": "-sHrODc3KFn8"
      }
    },
    {
      "cell_type": "markdown",
      "source": [
        "13. (11б). Створіть клас, що має визначений Iterator Protocol та при кожному виклику next повертає назву дня тижня, поки вони не вичерпаються. Зверніть увагу, що порядок має значення."
      ],
      "metadata": {
        "id": "E9qJWmNbK8Gl"
      }
    },
    {
      "cell_type": "code",
      "source": [
        "class WeekdayIterator:\n",
        "    def __init__(self):\n",
        "        self.days_of_week = [\"Monday\", \"Tuesday\", \"Wednesday\", \"Thursday\", \"Friday\", \"Saturday\", \"Sunday\"]\n",
        "        self.index = 0\n",
        "\n",
        "    def __iter__(self):\n",
        "        return self\n",
        "\n",
        "    def __next__(self):\n",
        "        if self.index >= len(self.days_of_week):\n",
        "            raise StopIteration\n",
        "        day = self.days_of_week[self.index]\n",
        "        self.index += 1\n",
        "        return day\n",
        "\n",
        "\n",
        "weekdays = WeekdayIterator()\n",
        "\n",
        "for day in weekdays:\n",
        "    print(day)\n"
      ],
      "metadata": {
        "id": "cqx-g_RsLo6I",
        "colab": {
          "base_uri": "https://localhost:8080/"
        },
        "outputId": "419a0b15-57cb-4852-9b5b-233e5983c901"
      },
      "execution_count": 19,
      "outputs": [
        {
          "output_type": "stream",
          "name": "stdout",
          "text": [
            "Monday\n",
            "Tuesday\n",
            "Wednesday\n",
            "Thursday\n",
            "Friday\n",
            "Saturday\n",
            "Sunday\n"
          ]
        }
      ]
    },
    {
      "cell_type": "markdown",
      "source": [
        "# Вітаю! Ви велика(ий) молодець, що впоралась(вся). Похваліть себе та побалуйте чимось приємним. Я Вами пишаюся."
      ],
      "metadata": {
        "id": "Z3E3S_s1Fv7-"
      }
    }
  ]
}